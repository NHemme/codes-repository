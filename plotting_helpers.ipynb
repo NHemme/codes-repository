{
 "cells": [
  {
   "cell_type": "code",
   "execution_count": 4,
   "id": "3cfb111e",
   "metadata": {},
   "outputs": [],
   "source": [
    "import numpy as np\n",
    "import ROOT\n",
    "\n",
    "def GetAllHistoNames(infile = ''):\n",
    "    rootfile1 = infile\n",
    "    f0 = ROOT.TFile(rootfile1,\"READ\")\n",
    "    \n",
    "    listofnames = []\n",
    "    listoftitles = []\n",
    "    \n",
    "    for obj in f0.GetListOfKeys():\n",
    "        listofnames.append(obj.GetName())\n",
    "        listoftitles.append(obj.GetTitle())\n",
    "    \n",
    "    return listofnames, listoftitles\n",
    "\n",
    "\n",
    "def GetLegendPlacement(position = ''):\n",
    "        if position == 'r':\n",
    "            placement = [0.62,0.89]\n",
    "        if position == 'c':\n",
    "            placement = [0.4,0.67]\n",
    "        if position == 'l':\n",
    "            placement = [0.19,0.47]\n",
    "        return placement"
   ]
  }
 ],
 "metadata": {
  "kernelspec": {
   "display_name": "Python 3",
   "language": "python",
   "name": "python3"
  },
  "language_info": {
   "codemirror_mode": {
    "name": "ipython",
    "version": 3
   },
   "file_extension": ".py",
   "mimetype": "text/x-python",
   "name": "python",
   "nbconvert_exporter": "python",
   "pygments_lexer": "ipython3",
   "version": "3.9.6"
  }
 },
 "nbformat": 4,
 "nbformat_minor": 5
}
